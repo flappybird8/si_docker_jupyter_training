{
 "cells": [
  {
   "cell_type": "code",
   "execution_count": 31,
   "metadata": {},
   "outputs": [],
   "source": [
    "from __future__ import print_function\n",
    "from __future__ import absolute_import\n",
    "\n",
    "%matplotlib inline\n",
    "\n",
    "import numpy\n",
    "import matplotlib.pyplot as plt\n",
    "import numpy as np\n",
    "import pandas as pd\n",
    "import datetime"
   ]
  },
  {
   "cell_type": "markdown",
   "metadata": {},
   "source": [
    "# Modeling Exercise\n",
    "\n",
    "This exercise is designed to both help you to learn `git` and `github` as well as some concepts from modeling that will be important.  If you need some ideas take a look at the [course notes](http://github.com/mandli/intro-numerical-methods)."
   ]
  },
  {
   "cell_type": "markdown",
   "metadata": {},
   "source": [
    "## Reading Data\n",
    "\n",
    "Take the data you read in from `get_hydro_data.ipynb` and write a function that read in the stream flow data and precip and returns the data"
   ]
  },
  {
   "cell_type": "code",
   "execution_count": 35,
   "metadata": {
    "collapsed": true
   },
   "outputs": [
    {
     "name": "stdout",
     "output_type": "stream",
     "text": [
      "                       dateTime  X_00060_00000\n",
      "0     2018-08-01 05:00:00+00:00          155.0\n",
      "1     2018-08-01 05:05:00+00:00          152.0\n",
      "2     2018-08-01 05:10:00+00:00          164.0\n",
      "3     2018-08-01 05:15:00+00:00          161.0\n",
      "4     2018-08-01 05:20:00+00:00          160.0\n",
      "5     2018-08-01 05:25:00+00:00          151.0\n",
      "6     2018-08-01 05:30:00+00:00          153.0\n",
      "7     2018-08-01 05:35:00+00:00          157.0\n",
      "8     2018-08-01 05:40:00+00:00          150.0\n",
      "9     2018-08-01 05:45:00+00:00          156.0\n",
      "10    2018-08-01 05:50:00+00:00          170.0\n",
      "11    2018-08-01 05:55:00+00:00          159.0\n",
      "12    2018-08-01 06:00:00+00:00          160.0\n",
      "13    2018-08-01 06:05:00+00:00          158.0\n",
      "14    2018-08-01 06:10:00+00:00          155.0\n",
      "15    2018-08-01 06:15:00+00:00          152.0\n",
      "16    2018-08-01 06:20:00+00:00          157.0\n",
      "17    2018-08-01 06:25:00+00:00          155.0\n",
      "18    2018-08-01 06:30:00+00:00          163.0\n",
      "19    2018-08-01 06:35:00+00:00          165.0\n",
      "20    2018-08-01 06:40:00+00:00          155.0\n",
      "21    2018-08-01 06:45:00+00:00          158.0\n",
      "22    2018-08-01 06:50:00+00:00          158.0\n",
      "23    2018-08-01 06:55:00+00:00          152.0\n",
      "24    2018-08-01 07:00:00+00:00          166.0\n",
      "25    2018-08-01 07:05:00+00:00          160.0\n",
      "26    2018-08-01 07:10:00+00:00          159.0\n",
      "27    2018-08-01 07:15:00+00:00          152.0\n",
      "28    2018-08-01 07:20:00+00:00          154.0\n",
      "29    2018-08-01 07:25:00+00:00          143.0\n",
      "...                         ...            ...\n",
      "33148 2018-12-02 03:30:00+00:00          356.0\n",
      "33149 2018-12-02 03:35:00+00:00          371.0\n",
      "33150 2018-12-02 03:40:00+00:00          365.0\n",
      "33151 2018-12-02 03:45:00+00:00          365.0\n",
      "33152 2018-12-02 03:50:00+00:00          384.0\n",
      "33153 2018-12-02 03:55:00+00:00          378.0\n",
      "33154 2018-12-02 04:00:00+00:00          381.0\n",
      "33155 2018-12-02 04:05:00+00:00          381.0\n",
      "33156 2018-12-02 04:10:00+00:00          377.0\n",
      "33157 2018-12-02 04:15:00+00:00          371.0\n",
      "33158 2018-12-02 04:20:00+00:00          376.0\n",
      "33159 2018-12-02 04:25:00+00:00          374.0\n",
      "33160 2018-12-02 04:30:00+00:00          374.0\n",
      "33161 2018-12-02 04:35:00+00:00          371.0\n",
      "33162 2018-12-02 04:40:00+00:00          367.0\n",
      "33163 2018-12-02 04:45:00+00:00          368.0\n",
      "33164 2018-12-02 04:50:00+00:00          363.0\n",
      "33165 2018-12-02 04:55:00+00:00          368.0\n",
      "33166 2018-12-02 05:00:00+00:00          361.0\n",
      "33167 2018-12-02 05:05:00+00:00          366.0\n",
      "33168 2018-12-02 05:10:00+00:00          371.0\n",
      "33169 2018-12-02 05:15:00+00:00          364.0\n",
      "33170 2018-12-02 05:20:00+00:00          366.0\n",
      "33171 2018-12-02 05:25:00+00:00          366.0\n",
      "33172 2018-12-02 05:30:00+00:00          365.0\n",
      "33173 2018-12-02 05:35:00+00:00          361.0\n",
      "33174 2018-12-02 05:40:00+00:00          361.0\n",
      "33175 2018-12-02 05:45:00+00:00          360.0\n",
      "33176 2018-12-02 05:50:00+00:00          361.0\n",
      "33177 2018-12-02 05:55:00+00:00          359.0\n",
      "\n",
      "[33178 rows x 2 columns]\n"
     ]
    }
   ],
   "source": [
    "def read_streamflow_data(path):\n",
    "    return pd.read_csv(path, header=0,\n",
    "                      usecols=['dateTime', 'X_00060_00000'],\n",
    "    parse_dates=['dateTime'],\n",
    "    dtype = {'X_00060_00000': float}, )\n",
    "\n",
    "\n",
    "data = read_streamflow_data(\"temp_data/streamflow_data.csv\")\n",
    "print(data)\n"
   ]
  },
  {
   "cell_type": "markdown",
   "metadata": {},
   "source": [
    "## Plot the Data\n",
    "\n",
    "Now write a function that plots the data you read in from above."
   ]
  },
  {
   "cell_type": "code",
   "execution_count": 37,
   "metadata": {},
   "outputs": [
    {
     "name": "stderr",
     "output_type": "stream",
     "text": [
      "/opt/conda/lib/python3.7/site-packages/pandas/plotting/_converter.py:129: FutureWarning: Using an implicitly registered datetime converter for a matplotlib plotting method. The converter was registered by pandas on import. Future versions of pandas will require you to explicitly register matplotlib converters.\n",
      "\n",
      "To register the converters:\n",
      "\t>>> from pandas.plotting import register_matplotlib_converters\n",
      "\t>>> register_matplotlib_converters()\n",
      "  warnings.warn(msg, FutureWarning)\n"
     ]
    },
    {
     "data": {
      "image/png": "[encoded data removed]",
      "text/plain": [
       "<Figure size 432x288 with 1 Axes>"
      ]
     },
     "metadata": {
      "needs_background": "light"
     },
     "output_type": "display_data"
    }
   ],
   "source": [
    "def plot_streamflow_data(x, y):\n",
    "    plt.plot(x, y, '.')\n",
    "    \n",
    "plot_streamflow_data(data.values[:, 0], data.values[:, 1])"
   ]
  },
  {
   "cell_type": "markdown",
   "metadata": {},
   "source": [
    "## Make a Model\n",
    "\n",
    "Write a function that takes the data from above and fits a curve to it.  Justify your approach to this problem as well."
   ]
  },
  {
   "cell_type": "markdown",
   "metadata": {},
   "source": []
  },
  {
   "cell_type": "code",
   "execution_count": null,
   "metadata": {},
   "outputs": [],
   "source": [
    "def fit_streamflow_data(x, y):\n",
    "    \"\"\"\"\"\"\n",
    "    \n",
    "    pass"
   ]
  },
  {
   "cell_type": "markdown",
   "metadata": {},
   "source": [
    "## Pull It All Together\n",
    "\n",
    "Use all three functions above and make a prediction where there is no data.  Think about where your prediction may be valid or invalid.  Make sure to mention this in your `doc-string`."
   ]
  },
  {
   "cell_type": "code",
   "execution_count": null,
   "metadata": {},
   "outputs": [],
   "source": [
    "def streamflow_prediction(x, y):\n",
    "    \"\"\"\"\"\"\n",
    "    \n",
    "    pass"
   ]
  }
 ],
 "metadata": {
  "kernelspec": {
   "display_name": "Python 3",
   "language": "python",
   "name": "python3"
  },
  "language_info": {
   "codemirror_mode": {
    "name": "ipython",
    "version": 3
   },
   "file_extension": ".py",
   "mimetype": "text/x-python",
   "name": "python",
   "nbconvert_exporter": "python",
   "pygments_lexer": "ipython3",
   "version": "3.7.3"
  }
 },
 "nbformat": 4,
 "nbformat_minor": 2
}
